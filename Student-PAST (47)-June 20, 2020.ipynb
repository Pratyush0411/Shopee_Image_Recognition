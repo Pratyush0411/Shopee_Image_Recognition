{
  "nbformat": 4,
  "nbformat_minor": 0,
  "metadata": {
    "colab": {
      "name": "Untitled2.ipynb",
      "provenance": [],
      "collapsed_sections": []
    },
    "kernelspec": {
      "name": "python3",
      "display_name": "Python 3"
    }
  },
  "cells": [
    {
      "cell_type": "markdown",
      "metadata": {
        "id": "9JmBcTOyIsCc",
        "colab_type": "text"
      },
      "source": [
        "This is the final model that we will be using to predict the classes of the test images\n",
        "\n",
        "The final model is a stacking model with the following pre-trained CNN architectures as base classifiers:\n",
        "\n",
        "* resnet34\n",
        "* vgg19\n",
        "* densenet161\n",
        "* resnext101_32x8d\n",
        "* vgg16\n",
        "\n",
        "The meta classifier is a kernel SVM with a radial basis function (rbf)\n",
        "\n",
        "The pre-trained CNNs were trained in separate notebooks using fastai2 which is a library for deep learning.\n",
        "\n",
        "The probabilities predicted by each neural network was saved as a torch tensor and is used to train the meta classifier."
      ]
    },
    {
      "cell_type": "markdown",
      "metadata": {
        "id": "OnNBhkMYKGtd",
        "colab_type": "text"
      },
      "source": [
        "*Importing The Libraries*"
      ]
    },
    {
      "cell_type": "code",
      "metadata": {
        "id": "655Yqk13FcbR",
        "colab_type": "code",
        "colab": {}
      },
      "source": [
        "import torch\n",
        "from sklearn.metrics import accuracy_score, confusion_matrix\n",
        "import numpy\n",
        "import numpy as np\n",
        "import pandas as pd"
      ],
      "execution_count": 8,
      "outputs": []
    },
    {
      "cell_type": "markdown",
      "metadata": {
        "id": "Mdl3hx7oKQge",
        "colab_type": "text"
      },
      "source": [
        "*Load the tensors into our program*\n",
        "\n",
        "###### please change the directory to ensure there aren't any errors"
      ]
    },
    {
      "cell_type": "code",
      "metadata": {
        "id": "WPvO6E8lZ2vp",
        "colab_type": "code",
        "colab": {}
      },
      "source": [
        "resnet34_val_tensor = torch.load('/content/proba_valid_resnet34')\n",
        "resnet34_test_tensor = torch.load('/content/proba_test_resnet34')\n",
        "vgg19_val_tensor = torch.load('/content/proba_valid_vgg19')\n",
        "vgg19_test_tensor = torch.load('/content/proba_test_vgg19')\n",
        "densenet161_val_tensor = torch.load('/content/proba_valid_densenet161')\n",
        "densenet161_test_tensor = torch.load('/content/proba_test_densenet161')\n",
        "resnext101_32x8d_val_tensor = torch.load('/content/proba_valid_resnext101_32x8d')\n",
        "resnext101_32x8d_test_tensor = torch.load('/content/proba_test_resnext101_32x8d')\n",
        "vgg16_val_tensor = torch.load('/content/proba_valid_vgg16')\n",
        "vgg16_test_tensor = torch.load('/content/proba_test_vgg16')"
      ],
      "execution_count": 2,
      "outputs": []
    },
    {
      "cell_type": "markdown",
      "metadata": {
        "id": "bGxHHdA3KmXt",
        "colab_type": "text"
      },
      "source": [
        "*Convert the torch tensors into numpy arrays*"
      ]
    },
    {
      "cell_type": "code",
      "metadata": {
        "id": "GGnbGbavZ9im",
        "colab_type": "code",
        "colab": {}
      },
      "source": [
        "resnet34_val_array = resnet34_val_tensor.numpy()\n",
        "resnet34_test_array = resnet34_test_tensor.numpy()\n",
        "\n",
        "vgg19_val_array = vgg19_val_tensor.numpy()\n",
        "vgg19_test_array = vgg19_test_tensor.numpy()\n",
        "\n",
        "densenet161_val_array = densenet161_val_tensor.numpy()\n",
        "densenet161_test_array = densenet161_test_tensor.numpy()\n",
        "\n",
        "resnext101_32x8d_val_array = resnext101_32x8d_val_tensor.numpy()\n",
        "resnext101_32x8d_test_array = resnext101_32x8d_test_tensor.numpy()\n",
        "\n",
        "vgg16_val_array = vgg16_val_tensor.numpy()\n",
        "vgg16_test_array = vgg16_test_tensor.numpy()"
      ],
      "execution_count": 3,
      "outputs": []
    },
    {
      "cell_type": "markdown",
      "metadata": {
        "id": "KtBz_lauK7KU",
        "colab_type": "text"
      },
      "source": [
        "*Generate the training and test input array*"
      ]
    },
    {
      "cell_type": "code",
      "metadata": {
        "id": "TtanFUNsGPQa",
        "colab_type": "code",
        "colab": {}
      },
      "source": [
        "train = numpy.hstack((resnet34_val_array, vgg19_val_array,\n",
        "                      densenet161_val_array, resnext101_32x8d_val_array,\n",
        "                      vgg16_val_array))\n",
        "\n",
        "test = numpy.hstack((resnet34_test_array, vgg19_test_array,\n",
        "                     densenet161_test_array, resnext101_32x8d_test_array,\n",
        "                     vgg16_test_array))"
      ],
      "execution_count": 4,
      "outputs": []
    },
    {
      "cell_type": "markdown",
      "metadata": {
        "id": "8WDe1Nq1LDiS",
        "colab_type": "text"
      },
      "source": [
        "*Printing the shapes of our arrays to verify that we haven't made any mistakes*"
      ]
    },
    {
      "cell_type": "code",
      "metadata": {
        "id": "hVAGwPFxG5pA",
        "colab_type": "code",
        "colab": {
          "base_uri": "https://localhost:8080/",
          "height": 35
        },
        "outputId": "ccd46533-fb9b-4f5b-b8a4-c6e473fbd9cb"
      },
      "source": [
        "print(train.shape)"
      ],
      "execution_count": 5,
      "outputs": [
        {
          "output_type": "stream",
          "text": [
            "(21079, 210)\n"
          ],
          "name": "stdout"
        }
      ]
    },
    {
      "cell_type": "code",
      "metadata": {
        "id": "a3EP9xU_2eyr",
        "colab_type": "code",
        "colab": {
          "base_uri": "https://localhost:8080/",
          "height": 35
        },
        "outputId": "6fbb99fd-15e4-4fd6-a512-0e70262e36b6"
      },
      "source": [
        "print(test.shape)"
      ],
      "execution_count": 6,
      "outputs": [
        {
          "output_type": "stream",
          "text": [
            "(12186, 210)\n"
          ],
          "name": "stdout"
        }
      ]
    },
    {
      "cell_type": "markdown",
      "metadata": {
        "id": "Vn_Scru2LPQJ",
        "colab_type": "text"
      },
      "source": [
        "*Load the classes of our training data in order to train our SVM*"
      ]
    },
    {
      "cell_type": "code",
      "metadata": {
        "id": "4Uy0oiugHY4T",
        "colab_type": "code",
        "colab": {}
      },
      "source": [
        "dataset = pd.read_csv(\"meta_labels.csv\")\n",
        "labels = dataset.iloc[:, -1].values"
      ],
      "execution_count": 9,
      "outputs": []
    },
    {
      "cell_type": "code",
      "metadata": {
        "id": "QiL9EUg1akQY",
        "colab_type": "code",
        "colab": {
          "base_uri": "https://localhost:8080/",
          "height": 35
        },
        "outputId": "9f68e8e3-db68-47e2-9587-336cd055ecad"
      },
      "source": [
        "print(labels.shape)"
      ],
      "execution_count": 10,
      "outputs": [
        {
          "output_type": "stream",
          "text": [
            "(21079,)\n"
          ],
          "name": "stdout"
        }
      ]
    },
    {
      "cell_type": "markdown",
      "metadata": {
        "id": "AoqaTEF9LW-c",
        "colab_type": "text"
      },
      "source": [
        "*Splitting the data into train and test*"
      ]
    },
    {
      "cell_type": "code",
      "metadata": {
        "id": "WA6cgaxNdeRI",
        "colab_type": "code",
        "colab": {}
      },
      "source": [
        "from sklearn.model_selection import train_test_split\n",
        "X_train, X_test, y_train, y_test = train_test_split(train, labels, test_size = 0.1)"
      ],
      "execution_count": 11,
      "outputs": []
    },
    {
      "cell_type": "markdown",
      "metadata": {
        "id": "2gjHgF2wLf1h",
        "colab_type": "text"
      },
      "source": [
        "*Training our SVM on 90% of the train data*"
      ]
    },
    {
      "cell_type": "code",
      "metadata": {
        "id": "b_nwBmr7amla",
        "colab_type": "code",
        "colab": {
          "base_uri": "https://localhost:8080/",
          "height": 87
        },
        "outputId": "9c2eba66-1b3b-4abc-e086-b8f31fe9f829"
      },
      "source": [
        "from sklearn.svm import SVC\n",
        "classifier = SVC(kernel='rbf')\n",
        "classifier.fit(X_train, y_train)"
      ],
      "execution_count": 12,
      "outputs": [
        {
          "output_type": "execute_result",
          "data": {
            "text/plain": [
              "SVC(C=1.0, break_ties=False, cache_size=200, class_weight=None, coef0=0.0,\n",
              "    decision_function_shape='ovr', degree=3, gamma='scale', kernel='rbf',\n",
              "    max_iter=-1, probability=False, random_state=None, shrinking=True,\n",
              "    tol=0.001, verbose=False)"
            ]
          },
          "metadata": {
            "tags": []
          },
          "execution_count": 12
        }
      ]
    },
    {
      "cell_type": "code",
      "metadata": {
        "id": "jTIZoWOHbSCJ",
        "colab_type": "code",
        "colab": {
          "base_uri": "https://localhost:8080/",
          "height": 35
        },
        "outputId": "77037932-0b28-4a4d-ba31-91d53c152b34"
      },
      "source": [
        "pred = classifier.predict(X_test)\n",
        "print(\"Accuracy on validation data: \",accuracy_score(pred, y_test))"
      ],
      "execution_count": 13,
      "outputs": [
        {
          "output_type": "stream",
          "text": [
            "Accuracy on validation data:  0.8221062618595826\n"
          ],
          "name": "stdout"
        }
      ]
    },
    {
      "cell_type": "markdown",
      "metadata": {
        "id": "0Or-_bSXLqKt",
        "colab_type": "text"
      },
      "source": [
        "The accuracy of the model is good.\n",
        "We decided to train an SVM on the entire training data as there is not much training data and there wasn't any evident signs of overfitting judging by the validation(X_test, y_test) accuracy"
      ]
    },
    {
      "cell_type": "code",
      "metadata": {
        "id": "Q1ZOe5bCIFXv",
        "colab_type": "code",
        "colab": {
          "base_uri": "https://localhost:8080/",
          "height": 87
        },
        "outputId": "229a8ee2-6c0f-4e9d-f923-37a4370ad716"
      },
      "source": [
        "meta_classifier = SVC(kernel='rbf')\n",
        "meta_classifier.fit(train, labels)"
      ],
      "execution_count": 14,
      "outputs": [
        {
          "output_type": "execute_result",
          "data": {
            "text/plain": [
              "SVC(C=1.0, break_ties=False, cache_size=200, class_weight=None, coef0=0.0,\n",
              "    decision_function_shape='ovr', degree=3, gamma='scale', kernel='rbf',\n",
              "    max_iter=-1, probability=False, random_state=None, shrinking=True,\n",
              "    tol=0.001, verbose=False)"
            ]
          },
          "metadata": {
            "tags": []
          },
          "execution_count": 14
        }
      ]
    },
    {
      "cell_type": "code",
      "metadata": {
        "id": "amflgPBZgZxJ",
        "colab_type": "code",
        "colab": {
          "base_uri": "https://localhost:8080/",
          "height": 35
        },
        "outputId": "893f49c7-c7f1-483f-c68e-3e85381f2d1e"
      },
      "source": [
        "test_pred = classifier.predict(test)\n",
        "print(test_pred)"
      ],
      "execution_count": 15,
      "outputs": [
        {
          "output_type": "stream",
          "text": [
            "[20 27  4 ... 13 15 23]\n"
          ],
          "name": "stdout"
        }
      ]
    },
    {
      "cell_type": "markdown",
      "metadata": {
        "id": "4Az6OQhxMEL-",
        "colab_type": "text"
      },
      "source": [
        "*The final .csv file for submission*"
      ]
    },
    {
      "cell_type": "code",
      "metadata": {
        "id": "5ZKQAAzQlwTc",
        "colab_type": "code",
        "colab": {}
      },
      "source": [
        "test_csv = pd.read_csv(\"test.csv\")\n",
        "\n",
        "submission  = test_csv[[\"filename\"]]\n",
        "submission[\"category\"] = test_pred\n",
        "submission[\"category\"] = submission.category.apply(lambda c: str(c).zfill(2))\n",
        "\n",
        "submission.to_csv(\"svm_submissionlast1.csv\", index=False)"
      ],
      "execution_count": 16,
      "outputs": []
    }
  ]
}